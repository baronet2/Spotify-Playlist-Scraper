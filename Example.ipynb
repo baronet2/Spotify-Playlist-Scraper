{
 "cells": [
  {
   "cell_type": "markdown",
   "metadata": {},
   "source": [
    "# Sample Usage of Spotify Playlist Scraper\n",
    "\n",
    "This notebook demonstrates several ways in which the Spotify Playlist Scraper can be used to analyze data from Spotify playlists.\n",
    "\n",
    "## Loading Data\n",
    "\n",
    "First, we load the data from the selected playlist using `Playlist(url)`."
   ]
  },
  {
   "cell_type": "code",
   "execution_count": 1,
   "metadata": {},
   "outputs": [
    {
     "name": "stdout",
     "output_type": "stream",
     "text": [
      "Playlist name: The Magical 500\n",
      "Playlist author: Tomorrowland\n",
      "Number of likes: 3833\n",
      "Number of songs: 491\n",
      "Total duration: 104589 seconds\n"
     ]
    }
   ],
   "source": [
    "from SpotifyPlaylistScraper import *\n",
    "inputs = [(['3', ''],), '1', '1', '1', '1', '1', '1', ('3', '1', 'Mixed Emotions'), (['2', 'ZHU'],), '1', '1', (['3', ''],), '1', '1', '1', '1', '1', '1', ('1', ['3', ''], 'Gouryella'), '1', '1']\n",
    "inputs = [list(i) for i in inputs]\n",
    "p = Playlist('https://open.spotify.com/playlist/2X38qrMnKVxbZMSrE72Ovh', fixing_inputs=inputs, verbose=False)\n",
    "print(p)"
   ]
  },
  {
   "cell_type": "markdown",
   "metadata": {},
   "source": [
    "Upon loading the playlist, songs which might require fixing of details are automatically marked. Note that the inputs to fix these songs were previously recorded and are passed into the `fixing_inputs` argument in the appropriate format. These inputs are used to fix the songs automatically while loading the playlist. However, normally, the `fixing_inputs` parameters are not used. Instead, one should normally call the playlist's `.fix()` method to correct any songs with incorrect information.\n",
    "\n",
    "## Accessing Songs\n",
    "\n",
    "The `Playlist` stores information on the songs it contains in a list. This list can be accessed using the `songs` attribute, and contains songs as `Song` objects. Here, we print the first 10 songs in the playlist."
   ]
  },
  {
   "cell_type": "code",
   "execution_count": 2,
   "metadata": {},
   "outputs": [
    {
     "data": {
      "text/plain": [
       "[Head & Heart (feat. MNEK) by Joel Corry, MNEK,\n",
       " Roses - Imanbek Remix by SAINt JHN, Imanbek,\n",
       " In Your Eyes (feat. Alida) by Robin Schulz, Alida,\n",
       " Secrets by Regard, RAYE,\n",
       " Lose Control by MEDUZA, Becky Hill, Goodboys,\n",
       " Turn Me On (feat. Vula) by Riton, Oliver Heldens, Vula,\n",
       " On My Mind by Diplo, SIDEPIECE,\n",
       " Breaking Me by Topic, A7S,\n",
       " The Business by Tiësto,\n",
       " Love to Go by Lost Frequencies, Zonderling, Kelvin Jones]"
      ]
     },
     "execution_count": 2,
     "metadata": {},
     "output_type": "execute_result"
    }
   ],
   "source": [
    "p.songs[:10]"
   ]
  },
  {
   "cell_type": "markdown",
   "metadata": {},
   "source": [
    "Note that it is possible to modify details of a song, including updating a song's list of featured artist using `s.fix_featured_artists()`, correcting a song's remix information using `s.fix_remix()`, or overwriting the song's original name using `.fix_original_name()`.\n",
    "\n",
    "## Finding the Most Common Artists in the Playlist\n",
    "\n",
    "We can find out which artists are most represented in the playlist using a `Counter` from the `collections` library."
   ]
  },
  {
   "cell_type": "code",
   "execution_count": 3,
   "metadata": {},
   "outputs": [
    {
     "data": {
      "text/plain": [
       "[('Oliver Heldens', 12),\n",
       " ('CamelPhat', 11),\n",
       " ('Jack Wins', 11),\n",
       " ('Nicky Romero', 10),\n",
       " ('Tiësto', 9),\n",
       " ('Vintage Culture', 9),\n",
       " ('Armin van Buuren', 9),\n",
       " ('DubVision', 9),\n",
       " ('Don Diablo', 8),\n",
       " ('David Guetta', 7)]"
      ]
     },
     "execution_count": 3,
     "metadata": {},
     "output_type": "execute_result"
    }
   ],
   "source": [
    "from collections import Counter\n",
    "all_artists = [a for a_s in [s.artists for s in p.songs] for a in a_s]\n",
    "c = Counter(all_artists)\n",
    "del c[None]\n",
    "c.most_common(10)"
   ]
  },
  {
   "cell_type": "markdown",
   "metadata": {},
   "source": [
    "If we wish to find only primary artists (rather than featured artists or remix artists), we can use the `s.get_primary_artists()` method."
   ]
  },
  {
   "cell_type": "code",
   "execution_count": 4,
   "metadata": {},
   "outputs": [
    {
     "data": {
      "text/plain": [
       "[('CamelPhat', 11),\n",
       " ('Oliver Heldens', 10),\n",
       " ('Armin van Buuren', 9),\n",
       " ('Nicky Romero', 9),\n",
       " ('Jack Wins', 9),\n",
       " ('Tiësto', 8),\n",
       " ('Don Diablo', 7),\n",
       " ('Becky Hill', 6),\n",
       " ('Diplo', 6),\n",
       " ('David Guetta', 6)]"
      ]
     },
     "execution_count": 4,
     "metadata": {},
     "output_type": "execute_result"
    }
   ],
   "source": [
    "primary_artists = [a for a_s in [s.get_primary_artists() for s in p.songs] for a in a_s]\n",
    "c_primary = Counter(primary_artists)\n",
    "c_primary.most_common(10)"
   ]
  },
  {
   "cell_type": "markdown",
   "metadata": {},
   "source": [
    "## Analyzing the Song Name Lengths\n",
    "\n",
    "We can plot a historgram of the number words in each song's name by using the `original_name` attribute, which does not include information on featured artists and remix versions in the song name. As we can see, in this playlist the vast majority of songs are 3 words long or shorter."
   ]
  },
  {
   "cell_type": "code",
   "execution_count": 5,
   "metadata": {},
   "outputs": [
    {
     "data": {
      "image/png": "[encoded data removed]",
      "text/plain": [
       "<Figure size 432x288 with 1 Axes>"
      ]
     },
     "metadata": {
      "needs_background": "light"
     },
     "output_type": "display_data"
    }
   ],
   "source": [
    "from numpy import arange\n",
    "import matplotlib.pyplot as plt\n",
    "\n",
    "song_name_length = [len(s.original_name.split()) for s in p.songs]\n",
    "bins = arange(1, max(song_name_length) + 1.5) - 0.5\n",
    "\n",
    "fig, ax = plt.subplots()\n",
    "plt.hist(song_name_length, bins)\n",
    "ax.set_xticks(bins + 0.5)\n",
    "\n",
    "plt.xlabel(\"# of Words\")\n",
    "plt.ylabel(\"# Songs\")\n",
    "plt.show()"
   ]
  },
  {
   "cell_type": "markdown",
   "metadata": {},
   "source": [
    "## Analyzing the Number of Artists per Song\n",
    "\n",
    "Similarly, we can analyze the number of artists per song. In this playlist, most songs have 1 or 2 artists, but some have 3 or even 4."
   ]
  },
  {
   "cell_type": "code",
   "execution_count": 6,
   "metadata": {},
   "outputs": [
    {
     "data": {
      "image/png": "[encoded data removed]",
      "text/plain": [
       "<Figure size 432x288 with 1 Axes>"
      ]
     },
     "metadata": {
      "needs_background": "light"
     },
     "output_type": "display_data"
    }
   ],
   "source": [
    "from numpy import arange\n",
    "import matplotlib.pyplot as plt\n",
    "\n",
    "num_artists = [len(s.artists) for s in p.songs]\n",
    "bins = arange(1, max(num_artists) + 1.5) - 0.5\n",
    "\n",
    "fig, ax = plt.subplots()\n",
    "plt.hist(num_artists, bins)\n",
    "ax.set_xticks(bins + 0.5)\n",
    "\n",
    "plt.xlabel(\"# of Artists\")\n",
    "plt.ylabel(\"# Songs\")\n",
    "plt.show()"
   ]
  },
  {
   "cell_type": "markdown",
   "metadata": {},
   "source": [
    "## Finding Similar Artists\n",
    "\n",
    "We can use the `fuzzywuzzy` library to compare artists names and find similar artist names. This can help identify artists that also appear in collaborations, such as `Dimitri Vegas & Like Mike` in this example."
   ]
  },
  {
   "cell_type": "code",
   "execution_count": 7,
   "metadata": {},
   "outputs": [
    {
     "name": "stdout",
     "output_type": "stream",
     "text": [
      "Wes - VER:WEST 90\n",
      "Dimitri Vegas & Like Mike - Dimitri Vegas 90\n",
      "Mylo - Justin Mylo 90\n",
      "Sia - Technasia 90\n",
      "ARTY - Party Pupils 90\n",
      "MAX - Kareen Lomax 90\n",
      "Solardo - Ola 90\n",
      "Felix Jaehn - Felix 90\n",
      "Cid - CID 100\n",
      "Wankelmut - NK 90\n",
      "Ava Max - MAX 90\n",
      "LOWES - Wes 90\n",
      "MKLA - MK 90\n",
      "Guz - Guz Zanotto 90\n",
      "Like Mike - Dimitri Vegas & Like Mike 90\n"
     ]
    }
   ],
   "source": [
    "from fuzzywuzzy import fuzz\n",
    "from fuzzywuzzy import process\n",
    "threshold = 90\n",
    "l = list(c.keys())\n",
    "for a in l:\n",
    "    match, ratio = process.extract(a, l, limit=2)[1]\n",
    "    if ratio >= threshold:\n",
    "        l.remove(match)\n",
    "        print(a, '-', match, ratio)"
   ]
  }
 ],
 "metadata": {
  "kernelspec": {
   "display_name": "Python 3",
   "language": "python",
   "name": "python3"
  },
  "language_info": {
   "codemirror_mode": {
    "name": "ipython",
    "version": 3
   },
   "file_extension": ".py",
   "mimetype": "text/x-python",
   "name": "python",
   "nbconvert_exporter": "python",
   "pygments_lexer": "ipython3",
   "version": "3.7.9"
  }
 },
 "nbformat": 4,
 "nbformat_minor": 4
}
